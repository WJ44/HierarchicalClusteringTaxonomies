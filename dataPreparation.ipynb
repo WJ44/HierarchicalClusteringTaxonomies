{
 "cells": [
  {
   "cell_type": "code",
   "execution_count": 5,
   "metadata": {
    "ExecuteTime": {
     "end_time": "2023-07-19T15:00:50.499106700Z",
     "start_time": "2023-07-19T15:00:50.315113800Z"
    },
    "collapsed": true,
    "pycharm": {
     "name": "#%%\n"
    }
   },
   "outputs": [],
   "source": [
    "import os\n",
    "from tqdm import tqdm\n",
    "import re\n",
    "import pandas as pd\n",
    "import random\n",
    "import shutil"
   ]
  },
  {
   "cell_type": "code",
   "execution_count": 8,
   "metadata": {
    "ExecuteTime": {
     "end_time": "2023-07-19T15:07:02.289041200Z",
     "start_time": "2023-07-19T15:06:39.351839500Z"
    },
    "collapsed": false,
    "pycharm": {
     "name": "#%%\n"
    }
   },
   "outputs": [
    {
     "name": "stderr",
     "output_type": "stream",
     "text": [
      "100%|██████████| 12/12 [00:11<00:00,  1.03it/s]\n"
     ]
    }
   ],
   "source": [
    "path = './data/'\n",
    "\n",
    "all = 'All/'\n",
    "\n",
    "folds = 10\n",
    "\n",
    "#TODO can be taken from folder names\n",
    "categories = ['Arrest', 'Arson', 'Assault', 'Burglary', 'Explosion', 'Fighting',\n",
    "              'RoadAccidents', 'Robbery', 'Shooting', 'Shoplifting', 'Stealing', 'Vandalism']\n",
    "\n",
    "for i in range(folds):\n",
    "    fold_path = str(i) + '/'\n",
    "    if os.path.exists(path + fold_path):\n",
    "        shutil.rmtree(path + fold_path)\n",
    "\n",
    "for category in tqdm(categories):\n",
    "    images = os.listdir(path + all + category + '/')\n",
    "    images = [x for x in images if x != 'desktop.ini']\n",
    "    df = pd.DataFrame({'filename': images})\n",
    "    df['recording'] = df['filename'].map(lambda x: re.search(r'([a-zA-X]+\\d+)', x).group(1))\n",
    "    recordings = df['recording'].unique()\n",
    "    random.seed(0)\n",
    "    random.shuffle(recordings)\n",
    "\n",
    "    for i in range(folds):\n",
    "        fold_path = str(i) + '/'\n",
    "        fold_start = int(len(recordings)*(1/folds)*i)\n",
    "        fold_end = int(len(recordings)*(1/folds)*(i+1))\n",
    "        fold = recordings[fold_start:fold_end]\n",
    "\n",
    "        os.makedirs(path + fold_path + category + '/')\n",
    "        for filename in df.loc[df['recording'].isin(fold)]['filename']:\n",
    "            shutil.copy(path + all + category + '/' + filename, path + fold_path + category + '/')\n"
   ]
  },
  {
   "cell_type": "code",
   "execution_count": null,
   "metadata": {
    "collapsed": false,
    "pycharm": {
     "name": "#%%\n"
    }
   },
   "outputs": [],
   "source": []
  }
 ],
 "metadata": {
  "kernelspec": {
   "display_name": "tf",
   "language": "python",
   "name": "python3"
  },
  "language_info": {
   "codemirror_mode": {
    "name": "ipython",
    "version": 3
   },
   "file_extension": ".py",
   "mimetype": "text/x-python",
   "name": "python",
   "nbconvert_exporter": "python",
   "pygments_lexer": "ipython3",
   "version": "3.9.18"
  }
 },
 "nbformat": 4,
 "nbformat_minor": 0
}
